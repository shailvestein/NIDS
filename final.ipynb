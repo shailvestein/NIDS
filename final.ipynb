{
 "cells": [
  {
   "cell_type": "markdown",
   "id": "790d4e8a",
   "metadata": {},
   "source": [
    "<p style=\"font-size:30px; color:red; font-weight:bold; font-style:italic\">Self-case study 1 title: Network intrusion detection tags</p>"
   ]
  },
  {
   "cell_type": "markdown",
   "id": "0a4c011c",
   "metadata": {},
   "source": [
    "<p style=\"font-style:italic; font-size:22px; font-weight:bold\">Table of contents</p>\n",
    "<p style=\"font-style:italic; font-size:17px; font-weight:bold; color:green;\">1.&emsp;Final function-1</p>\n",
    "<p style=\"font-style:italic; font-size:17px; font-weight:bold; color:green;\">2.&emsp;Final function-2</p>\n",
    "<p style=\"font-style:italic; font-size:17px; font-weight:bold; color:green;\">3.&emsp;Loading sample dataset to apply final function-1 and function-2</p>\n"
   ]
  },
  {
   "cell_type": "code",
   "execution_count": 1,
   "id": "8d852e57",
   "metadata": {},
   "outputs": [],
   "source": [
    "### import nids_functions before executing this notebook, provided alongwith\n",
    "import nids_functions as nf\n",
    "import numpy as np\n",
    "import pandas as pd\n",
    "\n",
    "from warnings import filterwarnings\n",
    "filterwarnings('ignore')\n",
    "\n",
    "from datetime import datetime as dt"
   ]
  },
  {
   "cell_type": "markdown",
   "id": "0d4d2ffa",
   "metadata": {},
   "source": [
    "<p style=\"font-size:22px; color:black; font-weight:bold; font-style:italic\">1.&emsp;Final Function 1</p>"
   ]
  },
  {
   "cell_type": "code",
   "execution_count": 2,
   "id": "3fada2f9",
   "metadata": {},
   "outputs": [],
   "source": [
    "def final_fun_1(x):\n",
    "    '''\n",
    "    this function will return the predicted class labels in the given datset / datapoint\n",
    "    and it assumes no NaNs given to the function in dataset\n",
    "    \n",
    "    x: data set having shape of x.shape == (n, 48)\n",
    "    '''\n",
    "    st = dt.now()\n",
    "    ### features name to make a dataframe and to perform preprocessing, FE operations on them\n",
    "    features_name = ['srcip', 'sport', 'dstip', 'dsport', 'proto', 'state', 'dur', \n",
    "                     'sbytes', 'dbytes', 'sttl', 'dttl', 'sloss', 'dloss', 'service', \n",
    "                     'Sload', 'Dload', 'Spkts', 'Dpkts', 'swin', 'dwin', 'stcpb', \n",
    "                     'dtcpb', 'smeansz', 'dmeansz', 'trans_depth', 'res_bdy_len', \n",
    "                     'Sjit', 'Djit', 'Stime', 'Ltime', 'Sintpkt', 'Dintpkt', 'tcprtt', \n",
    "                     'synack', 'ackdat', 'is_sm_ips_ports', 'ct_state_ttl', \n",
    "                     'ct_flw_http_mthd', 'is_ftp_login', 'ct_ftp_cmd', 'ct_srv_src', \n",
    "                     'ct_srv_dst', 'ct_dst_ltm', 'ct_src_ ltm', 'ct_src_dport_ltm', \n",
    "                     'ct_dst_sport_ltm', 'ct_dst_src_ltm', 'attack_cat']\n",
    "    ### final features name after preprocessing to be keep in dataset\n",
    "    final_columns =  ['proto', 'state', 'dur', 'sbytes', 'dbytes', 'sttl', 'dttl', 'service',\n",
    "                       'Sload', 'Dload', 'Spkts', 'stcpb', 'dtcpb', 'smeansz', 'dmeansz',\n",
    "                       'trans_depth', 'res_bdy_len', 'Sjit', 'Djit', 'Stime', 'Sintpkt',\n",
    "                       'Dintpkt', 'tcprtt', 'ct_state_ttl', 'ct_flw_http_mthd', 'is_ftp_login',\n",
    "                       'ct_srv_src', 'ct_srv_dst', 'ct_dst_ltm', 'ct_src_ ltm',\n",
    "                       'ct_src_dport_ltm', 'ct_dst_src_ltm']\n",
    "    \n",
    "    ### making dataframe to perform operations same as performed on train data\n",
    "    df = pd.DataFrame(data=x, columns=features_name)\n",
    "    ### converting categorical to numericals\n",
    "    df = nf.categorical_to_numerical(df)\n",
    "    ### taking final df after preprocessing to perform feature engineering\n",
    "    df = df[final_columns]\n",
    "    ### performing feature engineering operations\n",
    "    df = nf.feature_engineering(df)\n",
    "    ### scaling data after feature engineering\n",
    "    scaled_data = nf.scale_features(df)\n",
    "    ### stacking categorical features with the scaled features and converting them into sparse martrix\n",
    "    data = nf.to_sparse(df, scaled_data)\n",
    "    ### predicting class label on the dataset\n",
    "    predicted_label = nf.predict(data)\n",
    "    ### returning class label\n",
    "    return predicted_label"
   ]
  },
  {
   "cell_type": "markdown",
   "id": "73bb74c7",
   "metadata": {},
   "source": [
    "<p style=\"font-size:22px; color:black; font-weight:bold; font-style:italic\">2.&emsp;Final Function 2</p>"
   ]
  },
  {
   "cell_type": "code",
   "execution_count": 3,
   "id": "1832b956",
   "metadata": {},
   "outputs": [],
   "source": [
    "def final_fun_2(x, y_true):\n",
    "    '''\n",
    "    this function will print the time taken in class label prediction and the f1_score\n",
    "    and it assumes no NaNs given to the function in dataset\n",
    "    \n",
    "    x: dataset to be predict class label\n",
    "    \n",
    "    y_true: the true class labels on the dataset\n",
    "    '''\n",
    "    ### start time\n",
    "    st = dt.now() \n",
    "    ### predicting class labels\n",
    "    y_preds = final_fun_1(x)\n",
    "    ### calculating f1 score on predicted and actual class labels\n",
    "    auc, f1score = nf.calculate_metric_score(y_true, y_preds)\n",
    "    ### printing auc and f1-score on the given data\n",
    "    print(f\"AUC is: {auc}; f1_score is: {f1score}\")\n",
    "    ### printing time taken \n",
    "    print(f\"time taken: {dt.now() - st}\")\n",
    "    \n",
    "    "
   ]
  },
  {
   "cell_type": "markdown",
   "id": "4cf79e90",
   "metadata": {},
   "source": [
    "<p style=\"font-size:22px; color:black; font-weight:bold; font-style:italic\">3.&emsp;Loading sample dataset to apply final function-1 and function-2</p>"
   ]
  },
  {
   "cell_type": "code",
   "execution_count": 4,
   "id": "f5c915e7",
   "metadata": {},
   "outputs": [],
   "source": [
    "### loading sample dataset to apply final function-1 and final function-2\n",
    "d = np.load('demo_array.npy', allow_pickle=True)\n",
    "### actual class labels of these functions\n",
    "y = np.array([0,0,0,0,0,0,0,0,0,0,1,1,1,1,1,1,1,1,1,1])"
   ]
  },
  {
   "cell_type": "code",
   "execution_count": null,
   "id": "4534074f",
   "metadata": {},
   "outputs": [],
   "source": []
  },
  {
   "cell_type": "code",
   "execution_count": 9,
   "id": "c8fd5a75",
   "metadata": {},
   "outputs": [
    {
     "name": "stdout",
     "output_type": "stream",
     "text": [
      "Predicted class label is: 0\n",
      "time taken: 0:00:00.021003\n"
     ]
    }
   ],
   "source": [
    "### applying final function-1 on single datapoint from sample dataset\n",
    "x = d[0].reshape(1,-1)\n",
    "st = dt.now()\n",
    "y_preds = final_fun_1(x=x)[0]\n",
    "print(f\"Predicted class label is: {y_preds}\")\n",
    "print(f\"time taken: {dt.now() - st}\")"
   ]
  },
  {
   "cell_type": "code",
   "execution_count": 10,
   "id": "ae1820bf",
   "metadata": {
    "scrolled": true
   },
   "outputs": [
    {
     "name": "stdout",
     "output_type": "stream",
     "text": [
      "AUC is: 1.0; f1_score is: 1.0\n",
      "time taken: 0:00:00.021995\n"
     ]
    }
   ],
   "source": [
    "### applying final function-2 on the whole sample dataset with the true class labels\n",
    "final_fun_2(d, y)"
   ]
  },
  {
   "cell_type": "code",
   "execution_count": null,
   "id": "e05917d5",
   "metadata": {},
   "outputs": [],
   "source": []
  },
  {
   "cell_type": "code",
   "execution_count": null,
   "id": "9ca36caa",
   "metadata": {},
   "outputs": [],
   "source": []
  }
 ],
 "metadata": {
  "kernelspec": {
   "display_name": "Python 3",
   "language": "python",
   "name": "python3"
  },
  "language_info": {
   "codemirror_mode": {
    "name": "ipython",
    "version": 3
   },
   "file_extension": ".py",
   "mimetype": "text/x-python",
   "name": "python",
   "nbconvert_exporter": "python",
   "pygments_lexer": "ipython3",
   "version": "3.8.8"
  }
 },
 "nbformat": 4,
 "nbformat_minor": 5
}

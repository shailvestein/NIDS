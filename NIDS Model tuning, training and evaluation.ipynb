{
 "cells": [
  {
   "cell_type": "markdown",
   "id": "1691632c",
   "metadata": {},
   "source": [
    "<h1 style='font-size:30px; color:Red; font-weight: bold; font-style:italic;'>Self-case study 1 title: Network intrusion detection tags</h1>"
   ]
  },
  {
   "cell_type": "markdown",
   "id": "a502ab79",
   "metadata": {},
   "source": [
    "<p style='font-size:30px; font-style:italic; font-weight: bold;'>Table of contents</p>\n",
    "\n",
    "<p style='font-size:15px; color:green; font-style:italic;'>7.&emsp;Load and spliting dataset</p>\n",
    "\n",
    "<p style='font-size:15px; color:green; font-style:italic;'>8.&emsp;Feature engineering and scaling</p>\n",
    "\n",
    "<p style='font-size:15px; color:green; font-style:italic;'>9.&emsp;Model training and hyperparameter tuning\n",
    "    <ul>\n",
    "        <li style='font-size:15px; color:green; font-style:italic;'>tunning models with same number datapoints of both normal and abnormal class labels</li>\n",
    "        <li style='font-size:15px; color:green; font-style:italic;'>tunning model with the original imbalanced data yielded after preprocessing and cleaning</li>\n",
    "    </ul>\n",
    "</p>\n",
    "\n",
    "<p style='font-size:15px; color:green; font-style:italic;'>10.&emsp;Summary of all the estimators with their respective scores and auc</p>\n",
    "\n",
    "<p style='font-size:15px; color:green; font-style:italic;'>11.&emsp;Saving models, scaling vectors and the unique categories in proto, service, state feature, engineered features name in pickle file</p>"
   ]
  },
  {
   "cell_type": "markdown",
   "id": "8cd39e1e",
   "metadata": {},
   "source": [
    "<p style='font-size:25px; font-style:italic; font-weight: bold;'>7.&emsp;Load and spliting dataset</p>"
   ]
  },
  {
   "cell_type": "code",
   "execution_count": 1,
   "id": "659d0fdc",
   "metadata": {},
   "outputs": [],
   "source": [
    "### importing libraries\n",
    "import pandas as pd\n",
    "import numpy as np\n",
    "from datetime import datetime as dt\n",
    "import gc\n",
    "from sklearn.model_selection import RandomizedSearchCV\n",
    "\n",
    "from warnings import filterwarnings\n",
    "filterwarnings('ignore')"
   ]
  },
  {
   "cell_type": "code",
   "execution_count": 2,
   "id": "f1d552fe",
   "metadata": {},
   "outputs": [],
   "source": [
    "## setting random seed\n",
    "SEED = 42\n",
    "np.random.seed(SEED)\n",
    "\n",
    "pd.options.display.precision=12\n",
    "pd.options.display.max_columns=45\n",
    "\n",
    "root_path = 'E:/case study 1/intrusion detection/UNSW-NB15 - CSV Files/'\n"
   ]
  },
  {
   "cell_type": "code",
   "execution_count": 3,
   "id": "70421995",
   "metadata": {},
   "outputs": [
    {
     "name": "stdout",
     "output_type": "stream",
     "text": [
      "Shape of dataframe: (2059418, 33)\n"
     ]
    }
   ],
   "source": [
    "### loading cleaned and preprocessed dataframe from disk\n",
    "df = pd.read_csv(root_path+'final_preprocessed_NIDS_dataset.csv')\n",
    "print(f\"Shape of dataframe: {df.shape}\")"
   ]
  },
  {
   "cell_type": "code",
   "execution_count": 5,
   "id": "3aed786f",
   "metadata": {},
   "outputs": [
    {
     "name": "stdout",
     "output_type": "stream",
     "text": [
      "<class 'pandas.core.frame.DataFrame'>\n",
      "RangeIndex: 2059418 entries, 0 to 2059417\n",
      "Data columns (total 33 columns):\n",
      " #   Column            Dtype  \n",
      "---  ------            -----  \n",
      " 0   proto             object \n",
      " 1   state             object \n",
      " 2   dur               float64\n",
      " 3   sbytes            int64  \n",
      " 4   dbytes            int64  \n",
      " 5   sttl              int64  \n",
      " 6   dttl              int64  \n",
      " 7   service           object \n",
      " 8   Sload             float64\n",
      " 9   Dload             float64\n",
      " 10  Spkts             int64  \n",
      " 11  stcpb             int64  \n",
      " 12  dtcpb             int64  \n",
      " 13  smeansz           int64  \n",
      " 14  dmeansz           int64  \n",
      " 15  trans_depth       int64  \n",
      " 16  res_bdy_len       int64  \n",
      " 17  Sjit              float64\n",
      " 18  Djit              float64\n",
      " 19  Stime             int64  \n",
      " 20  Sintpkt           float64\n",
      " 21  Dintpkt           float64\n",
      " 22  tcprtt            float64\n",
      " 23  ct_state_ttl      int64  \n",
      " 24  ct_flw_http_mthd  float64\n",
      " 25  is_ftp_login      float64\n",
      " 26  ct_srv_src        int64  \n",
      " 27  ct_srv_dst        int64  \n",
      " 28  ct_dst_ltm        int64  \n",
      " 29  ct_src_ ltm       int64  \n",
      " 30  ct_src_dport_ltm  int64  \n",
      " 31  ct_dst_src_ltm    int64  \n",
      " 32  Label             int64  \n",
      "dtypes: float64(10), int64(20), object(3)\n",
      "memory usage: 518.5+ MB\n"
     ]
    }
   ],
   "source": [
    "df.info()"
   ]
  },
  {
   "cell_type": "markdown",
   "id": "b23a002d",
   "metadata": {},
   "source": [
    "<p style='font-size:25px; font-style:italic; font-weight: bold;'>8.&emsp;Feature engineering and scaling</p>"
   ]
  },
  {
   "cell_type": "code",
   "execution_count": 6,
   "id": "f468684b",
   "metadata": {},
   "outputs": [],
   "source": [
    "### uniques list for categories in proto features\n",
    "unique_proto = list(df['proto'].unique())\n",
    "### uniques list for categories in state feature\n",
    "unique_state = list(df['state'].unique())\n",
    "### uniques list for categories in service feature\n",
    "unique_service = list(df['service'].unique())\n",
    "\n",
    "def numerical_proto(x):\n",
    "    '''this function will return index of a category present in the list'''\n",
    "    return unique_proto.index(x)\n",
    "def numerical_state(x):\n",
    "    '''this function will return index of a category present in the list'''\n",
    "    return unique_state.index(x)\n",
    "def numerical_service(x):\n",
    "    '''this function will return index of a category present in the list'''\n",
    "    return unique_service.index(x)\n",
    "\n",
    "### converting categorical features and with the index of their respective category in unique list\n",
    "df['proto'] = df['proto'].apply(numerical_proto)\n",
    "### converting categorical features and with the index of their respective category in unique list\n",
    "df['state'] = df['state'].apply(numerical_state)\n",
    "### converting categorical features and with the index of their respective category in unique list\n",
    "df['service'] = df['service'].apply(numerical_service)"
   ]
  },
  {
   "cell_type": "code",
   "execution_count": 7,
   "id": "d9f6e77e",
   "metadata": {},
   "outputs": [],
   "source": [
    "### adding an extra features by adding two features\n",
    "df[\"sttl+dttl\"] = np.array(df[\"sttl\"]) + np.array(df[\"dttl\"])\n",
    "### adding an extra features by adding two features\n",
    "df[\"sbytes+dbytes\"] = np.array(df[\"sbytes\"]) + np.array(df[\"dbytes\"])\n",
    "### adding an extra features by adding two features\n",
    "df[\"Sload+Dload\"] = np.array(df[\"Sload\"]) + np.array(df[\"Dload\"])\n",
    "### adding an extra features by adding two features\n",
    "df[\"stcpb+dtcpb\"] = np.array(df[\"stcpb\"]) + np.array(df[\"dtcpb\"])\n",
    "### adding an extra features by adding two features\n",
    "df[\"smeansz+dmeansz\"] = np.array(df[\"smeansz\"]) + np.array(df[\"dmeansz\"])\n",
    "### adding an extra features by adding two features\n",
    "df[\"Sjit+Djit\"] = np.array(df[\"Sjit\"]) + np.array(df[\"Djit\"])\n",
    "### adding an extra features by adding two features\n",
    "df[\"Sintpkt+Dintpkt\"] = np.array(df[\"Sintpkt\"]) + np.array(df[\"Dintpkt\"])\n",
    "### adding an extra features by adding two features\n",
    "df[\"trans_depth+res_bdy_len\"] = np.array(df[\"trans_depth\"]) + np.array(df[\"res_bdy_len\"])\n",
    "### adding an extra features by adding two features\n",
    "df[\"ct_state_ttl+ct_flw_http_mthd\"] = np.array(df[\"ct_state_ttl\"]) + np.array(df[\"ct_flw_http_mthd\"])\n",
    "### adding an extra features by adding two features\n",
    "df[\"ct_srv_dst+ct_dst_ltm\"] = np.array(df[\"ct_srv_dst\"]) + np.array(df[\"ct_dst_ltm\"])\n",
    "### adding an extra features by adding two features\n",
    "df[\"ct_src_ ltm+ct_src_dport_ltm\"] = np.array(df[\"ct_src_ ltm\"]) + np.array(df[\"ct_src_dport_ltm\"])"
   ]
  },
  {
   "cell_type": "code",
   "execution_count": 8,
   "id": "f083b66e",
   "metadata": {},
   "outputs": [
    {
     "data": {
      "text/html": [
       "<div>\n",
       "<style scoped>\n",
       "    .dataframe tbody tr th:only-of-type {\n",
       "        vertical-align: middle;\n",
       "    }\n",
       "\n",
       "    .dataframe tbody tr th {\n",
       "        vertical-align: top;\n",
       "    }\n",
       "\n",
       "    .dataframe thead th {\n",
       "        text-align: right;\n",
       "    }\n",
       "</style>\n",
       "<table border=\"1\" class=\"dataframe\">\n",
       "  <thead>\n",
       "    <tr style=\"text-align: right;\">\n",
       "      <th></th>\n",
       "      <th>proto</th>\n",
       "      <th>state</th>\n",
       "      <th>dur</th>\n",
       "      <th>sbytes</th>\n",
       "      <th>dbytes</th>\n",
       "      <th>sttl</th>\n",
       "      <th>dttl</th>\n",
       "      <th>service</th>\n",
       "      <th>Sload</th>\n",
       "      <th>Dload</th>\n",
       "      <th>Spkts</th>\n",
       "      <th>stcpb</th>\n",
       "      <th>dtcpb</th>\n",
       "      <th>smeansz</th>\n",
       "      <th>dmeansz</th>\n",
       "      <th>trans_depth</th>\n",
       "      <th>res_bdy_len</th>\n",
       "      <th>Sjit</th>\n",
       "      <th>Djit</th>\n",
       "      <th>Stime</th>\n",
       "      <th>Sintpkt</th>\n",
       "      <th>Dintpkt</th>\n",
       "      <th>tcprtt</th>\n",
       "      <th>ct_state_ttl</th>\n",
       "      <th>ct_flw_http_mthd</th>\n",
       "      <th>is_ftp_login</th>\n",
       "      <th>ct_srv_src</th>\n",
       "      <th>ct_srv_dst</th>\n",
       "      <th>ct_dst_ltm</th>\n",
       "      <th>ct_src_ ltm</th>\n",
       "      <th>ct_src_dport_ltm</th>\n",
       "      <th>ct_dst_src_ltm</th>\n",
       "      <th>Label</th>\n",
       "      <th>sttl+dttl</th>\n",
       "      <th>sbytes+dbytes</th>\n",
       "      <th>Sload+Dload</th>\n",
       "      <th>stcpb+dtcpb</th>\n",
       "      <th>smeansz+dmeansz</th>\n",
       "      <th>Sjit+Djit</th>\n",
       "      <th>Sintpkt+Dintpkt</th>\n",
       "      <th>trans_depth+res_bdy_len</th>\n",
       "      <th>ct_state_ttl+ct_flw_http_mthd</th>\n",
       "      <th>ct_srv_dst+ct_dst_ltm</th>\n",
       "      <th>ct_src_ ltm+ct_src_dport_ltm</th>\n",
       "    </tr>\n",
       "  </thead>\n",
       "  <tbody>\n",
       "    <tr>\n",
       "      <th>0</th>\n",
       "      <td>0</td>\n",
       "      <td>0</td>\n",
       "      <td>0.001055</td>\n",
       "      <td>132</td>\n",
       "      <td>164</td>\n",
       "      <td>31</td>\n",
       "      <td>29</td>\n",
       "      <td>0</td>\n",
       "      <td>500473.937500000000</td>\n",
       "      <td>621800.937500000000</td>\n",
       "      <td>2</td>\n",
       "      <td>0</td>\n",
       "      <td>0</td>\n",
       "      <td>66</td>\n",
       "      <td>82</td>\n",
       "      <td>0</td>\n",
       "      <td>0</td>\n",
       "      <td>0.00000</td>\n",
       "      <td>0.000000</td>\n",
       "      <td>1421927414</td>\n",
       "      <td>0.017</td>\n",
       "      <td>0.013000</td>\n",
       "      <td>0.0</td>\n",
       "      <td>0</td>\n",
       "      <td>0.0</td>\n",
       "      <td>0.0</td>\n",
       "      <td>3</td>\n",
       "      <td>7</td>\n",
       "      <td>1</td>\n",
       "      <td>3</td>\n",
       "      <td>1</td>\n",
       "      <td>1</td>\n",
       "      <td>0</td>\n",
       "      <td>60</td>\n",
       "      <td>296</td>\n",
       "      <td>1.122274875000e+06</td>\n",
       "      <td>0</td>\n",
       "      <td>148</td>\n",
       "      <td>0.000000</td>\n",
       "      <td>0.030000</td>\n",
       "      <td>0</td>\n",
       "      <td>0.0</td>\n",
       "      <td>8</td>\n",
       "      <td>4</td>\n",
       "    </tr>\n",
       "    <tr>\n",
       "      <th>1</th>\n",
       "      <td>0</td>\n",
       "      <td>0</td>\n",
       "      <td>0.036133</td>\n",
       "      <td>528</td>\n",
       "      <td>304</td>\n",
       "      <td>31</td>\n",
       "      <td>29</td>\n",
       "      <td>1</td>\n",
       "      <td>87676.085940000004</td>\n",
       "      <td>50480.171880000002</td>\n",
       "      <td>4</td>\n",
       "      <td>0</td>\n",
       "      <td>0</td>\n",
       "      <td>132</td>\n",
       "      <td>76</td>\n",
       "      <td>0</td>\n",
       "      <td>0</td>\n",
       "      <td>9.89101</td>\n",
       "      <td>10.682733</td>\n",
       "      <td>1421927414</td>\n",
       "      <td>7.005</td>\n",
       "      <td>7.564333</td>\n",
       "      <td>0.0</td>\n",
       "      <td>0</td>\n",
       "      <td>0.0</td>\n",
       "      <td>0.0</td>\n",
       "      <td>2</td>\n",
       "      <td>4</td>\n",
       "      <td>2</td>\n",
       "      <td>3</td>\n",
       "      <td>1</td>\n",
       "      <td>2</td>\n",
       "      <td>0</td>\n",
       "      <td>60</td>\n",
       "      <td>832</td>\n",
       "      <td>1.381562578200e+05</td>\n",
       "      <td>0</td>\n",
       "      <td>208</td>\n",
       "      <td>20.573743</td>\n",
       "      <td>14.569333</td>\n",
       "      <td>0</td>\n",
       "      <td>0.0</td>\n",
       "      <td>6</td>\n",
       "      <td>4</td>\n",
       "    </tr>\n",
       "    <tr>\n",
       "      <th>2</th>\n",
       "      <td>0</td>\n",
       "      <td>0</td>\n",
       "      <td>0.001119</td>\n",
       "      <td>146</td>\n",
       "      <td>178</td>\n",
       "      <td>31</td>\n",
       "      <td>29</td>\n",
       "      <td>0</td>\n",
       "      <td>521894.531299999973</td>\n",
       "      <td>636282.375000000000</td>\n",
       "      <td>2</td>\n",
       "      <td>0</td>\n",
       "      <td>0</td>\n",
       "      <td>73</td>\n",
       "      <td>89</td>\n",
       "      <td>0</td>\n",
       "      <td>0</td>\n",
       "      <td>0.00000</td>\n",
       "      <td>0.000000</td>\n",
       "      <td>1421927414</td>\n",
       "      <td>0.017</td>\n",
       "      <td>0.013000</td>\n",
       "      <td>0.0</td>\n",
       "      <td>0</td>\n",
       "      <td>0.0</td>\n",
       "      <td>0.0</td>\n",
       "      <td>12</td>\n",
       "      <td>8</td>\n",
       "      <td>1</td>\n",
       "      <td>2</td>\n",
       "      <td>2</td>\n",
       "      <td>1</td>\n",
       "      <td>0</td>\n",
       "      <td>60</td>\n",
       "      <td>324</td>\n",
       "      <td>1.158176906300e+06</td>\n",
       "      <td>0</td>\n",
       "      <td>162</td>\n",
       "      <td>0.000000</td>\n",
       "      <td>0.030000</td>\n",
       "      <td>0</td>\n",
       "      <td>0.0</td>\n",
       "      <td>9</td>\n",
       "      <td>4</td>\n",
       "    </tr>\n",
       "    <tr>\n",
       "      <th>3</th>\n",
       "      <td>0</td>\n",
       "      <td>0</td>\n",
       "      <td>0.001209</td>\n",
       "      <td>132</td>\n",
       "      <td>164</td>\n",
       "      <td>31</td>\n",
       "      <td>29</td>\n",
       "      <td>0</td>\n",
       "      <td>436724.562500000000</td>\n",
       "      <td>542597.187500000000</td>\n",
       "      <td>2</td>\n",
       "      <td>0</td>\n",
       "      <td>0</td>\n",
       "      <td>66</td>\n",
       "      <td>82</td>\n",
       "      <td>0</td>\n",
       "      <td>0</td>\n",
       "      <td>0.00000</td>\n",
       "      <td>0.000000</td>\n",
       "      <td>1421927414</td>\n",
       "      <td>0.043</td>\n",
       "      <td>0.014000</td>\n",
       "      <td>0.0</td>\n",
       "      <td>0</td>\n",
       "      <td>0.0</td>\n",
       "      <td>0.0</td>\n",
       "      <td>6</td>\n",
       "      <td>9</td>\n",
       "      <td>1</td>\n",
       "      <td>1</td>\n",
       "      <td>1</td>\n",
       "      <td>1</td>\n",
       "      <td>0</td>\n",
       "      <td>60</td>\n",
       "      <td>296</td>\n",
       "      <td>9.793217500000e+05</td>\n",
       "      <td>0</td>\n",
       "      <td>148</td>\n",
       "      <td>0.000000</td>\n",
       "      <td>0.057000</td>\n",
       "      <td>0</td>\n",
       "      <td>0.0</td>\n",
       "      <td>10</td>\n",
       "      <td>2</td>\n",
       "    </tr>\n",
       "    <tr>\n",
       "      <th>4</th>\n",
       "      <td>0</td>\n",
       "      <td>0</td>\n",
       "      <td>0.001169</td>\n",
       "      <td>146</td>\n",
       "      <td>178</td>\n",
       "      <td>31</td>\n",
       "      <td>29</td>\n",
       "      <td>0</td>\n",
       "      <td>499572.250000000000</td>\n",
       "      <td>609067.562500000000</td>\n",
       "      <td>2</td>\n",
       "      <td>0</td>\n",
       "      <td>0</td>\n",
       "      <td>73</td>\n",
       "      <td>89</td>\n",
       "      <td>0</td>\n",
       "      <td>0</td>\n",
       "      <td>0.00000</td>\n",
       "      <td>0.000000</td>\n",
       "      <td>1421927414</td>\n",
       "      <td>0.005</td>\n",
       "      <td>0.003000</td>\n",
       "      <td>0.0</td>\n",
       "      <td>0</td>\n",
       "      <td>0.0</td>\n",
       "      <td>0.0</td>\n",
       "      <td>7</td>\n",
       "      <td>9</td>\n",
       "      <td>1</td>\n",
       "      <td>1</td>\n",
       "      <td>1</td>\n",
       "      <td>1</td>\n",
       "      <td>0</td>\n",
       "      <td>60</td>\n",
       "      <td>324</td>\n",
       "      <td>1.108639812500e+06</td>\n",
       "      <td>0</td>\n",
       "      <td>162</td>\n",
       "      <td>0.000000</td>\n",
       "      <td>0.008000</td>\n",
       "      <td>0</td>\n",
       "      <td>0.0</td>\n",
       "      <td>10</td>\n",
       "      <td>2</td>\n",
       "    </tr>\n",
       "  </tbody>\n",
       "</table>\n",
       "</div>"
      ],
      "text/plain": [
       "   proto  state       dur  sbytes  dbytes  sttl  dttl  service  \\\n",
       "0      0      0  0.001055     132     164    31    29        0   \n",
       "1      0      0  0.036133     528     304    31    29        1   \n",
       "2      0      0  0.001119     146     178    31    29        0   \n",
       "3      0      0  0.001209     132     164    31    29        0   \n",
       "4      0      0  0.001169     146     178    31    29        0   \n",
       "\n",
       "                 Sload                Dload  Spkts  stcpb  dtcpb  smeansz  \\\n",
       "0  500473.937500000000  621800.937500000000      2      0      0       66   \n",
       "1   87676.085940000004   50480.171880000002      4      0      0      132   \n",
       "2  521894.531299999973  636282.375000000000      2      0      0       73   \n",
       "3  436724.562500000000  542597.187500000000      2      0      0       66   \n",
       "4  499572.250000000000  609067.562500000000      2      0      0       73   \n",
       "\n",
       "   dmeansz  trans_depth  res_bdy_len     Sjit       Djit       Stime  Sintpkt  \\\n",
       "0       82            0            0  0.00000   0.000000  1421927414    0.017   \n",
       "1       76            0            0  9.89101  10.682733  1421927414    7.005   \n",
       "2       89            0            0  0.00000   0.000000  1421927414    0.017   \n",
       "3       82            0            0  0.00000   0.000000  1421927414    0.043   \n",
       "4       89            0            0  0.00000   0.000000  1421927414    0.005   \n",
       "\n",
       "    Dintpkt  tcprtt  ct_state_ttl  ct_flw_http_mthd  is_ftp_login  ct_srv_src  \\\n",
       "0  0.013000     0.0             0               0.0           0.0           3   \n",
       "1  7.564333     0.0             0               0.0           0.0           2   \n",
       "2  0.013000     0.0             0               0.0           0.0          12   \n",
       "3  0.014000     0.0             0               0.0           0.0           6   \n",
       "4  0.003000     0.0             0               0.0           0.0           7   \n",
       "\n",
       "   ct_srv_dst  ct_dst_ltm  ct_src_ ltm  ct_src_dport_ltm  ct_dst_src_ltm  \\\n",
       "0           7           1            3                 1               1   \n",
       "1           4           2            3                 1               2   \n",
       "2           8           1            2                 2               1   \n",
       "3           9           1            1                 1               1   \n",
       "4           9           1            1                 1               1   \n",
       "\n",
       "   Label  sttl+dttl  sbytes+dbytes         Sload+Dload  stcpb+dtcpb  \\\n",
       "0      0         60            296  1.122274875000e+06            0   \n",
       "1      0         60            832  1.381562578200e+05            0   \n",
       "2      0         60            324  1.158176906300e+06            0   \n",
       "3      0         60            296  9.793217500000e+05            0   \n",
       "4      0         60            324  1.108639812500e+06            0   \n",
       "\n",
       "   smeansz+dmeansz  Sjit+Djit  Sintpkt+Dintpkt  trans_depth+res_bdy_len  \\\n",
       "0              148   0.000000         0.030000                        0   \n",
       "1              208  20.573743        14.569333                        0   \n",
       "2              162   0.000000         0.030000                        0   \n",
       "3              148   0.000000         0.057000                        0   \n",
       "4              162   0.000000         0.008000                        0   \n",
       "\n",
       "   ct_state_ttl+ct_flw_http_mthd  ct_srv_dst+ct_dst_ltm  \\\n",
       "0                            0.0                      8   \n",
       "1                            0.0                      6   \n",
       "2                            0.0                      9   \n",
       "3                            0.0                     10   \n",
       "4                            0.0                     10   \n",
       "\n",
       "   ct_src_ ltm+ct_src_dport_ltm  \n",
       "0                             4  \n",
       "1                             4  \n",
       "2                             4  \n",
       "3                             2  \n",
       "4                             2  "
      ]
     },
     "execution_count": 8,
     "metadata": {},
     "output_type": "execute_result"
    }
   ],
   "source": [
    "df.head(5)"
   ]
  },
  {
   "cell_type": "code",
   "execution_count": 9,
   "id": "be115f15",
   "metadata": {
    "scrolled": true
   },
   "outputs": [
    {
     "name": "stdout",
     "output_type": "stream",
     "text": [
      "Shape of train: (1441592, 44)\n",
      "Shape of test: (617826, 44)\n"
     ]
    }
   ],
   "source": [
    "### spliting dataframe into train and test set\n",
    "from sklearn.model_selection import train_test_split\n",
    "train, test= train_test_split(df, test_size=0.3, stratify=df['Label'])\n",
    "print(f\"Shape of train: {train.shape}\")\n",
    "print(f\"Shape of test: {test.shape}\")"
   ]
  },
  {
   "cell_type": "code",
   "execution_count": 10,
   "id": "7a0458bb",
   "metadata": {},
   "outputs": [
    {
     "data": {
      "image/png": "[encoded data removed]",
      "text/plain": [
       "<Figure size 360x360 with 1 Axes>"
      ]
     },
     "metadata": {
      "needs_background": "light"
     },
     "output_type": "display_data"
    },
    {
     "name": "stdout",
     "output_type": "stream",
     "text": [
      "----------------------------------------------------------------------\n",
      "++++++++++++++++++++++++++++++++++++++++++++++++++++++++++++++++++++++\n",
      "----------------------------------------------------------------------\n"
     ]
    },
    {
     "data": {
      "image/png": "[encoded data removed]",
      "text/plain": [
       "<Figure size 360x360 with 1 Axes>"
      ]
     },
     "metadata": {
      "needs_background": "light"
     },
     "output_type": "display_data"
    }
   ],
   "source": [
    "import matplotlib.pyplot as plt\n",
    "import seaborn as sns\n",
    "### plotting class distribution in train after splitting dataset\n",
    "sns.catplot(data=train, x='Label', hue='Label', kind='count')\n",
    "### adding title to the figure\n",
    "plt.title('Distribution of datapoints in train set based on class labels...')\n",
    "### adding grid to figure\n",
    "plt.grid()\n",
    "plt.show()\n",
    "\n",
    "print('-'*70)\n",
    "print('+'*70)\n",
    "print('-'*70)\n",
    "\n",
    "### plotting class distribution in test after splitting dataset\n",
    "sns.catplot(data=test, x='Label', hue='Label', kind='count')\n",
    "### adding title to the figure\n",
    "plt.title('Distribution of datapoints in test set based on class labels...')\n",
    "### adding grid to figure\n",
    "plt.grid()\n",
    "plt.show()"
   ]
  },
  {
   "cell_type": "code",
   "execution_count": 11,
   "id": "cae2ed50",
   "metadata": {},
   "outputs": [
    {
     "data": {
      "text/plain": [
       "5703"
      ]
     },
     "execution_count": 11,
     "metadata": {},
     "output_type": "execute_result"
    }
   ],
   "source": [
    "### garbage collector\n",
    "gc.collect()"
   ]
  },
  {
   "cell_type": "markdown",
   "id": "8c5e59c4",
   "metadata": {},
   "source": [
    "* **Dataset has been distributed similar based on class label**"
   ]
  },
  {
   "cell_type": "markdown",
   "id": "d66e8047",
   "metadata": {},
   "source": [
    "**Let's distribute train and test data into X_train, X_test, y_train, y_test so that we can feed this into ML algorithms**"
   ]
  },
  {
   "cell_type": "code",
   "execution_count": 12,
   "id": "0106a7c0",
   "metadata": {},
   "outputs": [],
   "source": [
    "### spliting dataframe into xtr and xte set to perform scaling on the features\n",
    "X_tr = train.drop(['proto', 'state', 'service', 'Label'], axis=1)\n",
    "X_te = test.drop(['proto', 'state', 'service', 'Label'], axis=1)\n",
    "\n",
    "### spliting class lables from train and test set and reshapeing it to avoid any warning/error\n",
    "y_train = np.array(train['Label'])\n",
    "y_test = np.array(test['Label'])"
   ]
  },
  {
   "cell_type": "code",
   "execution_count": 13,
   "id": "ea3f6239",
   "metadata": {},
   "outputs": [
    {
     "name": "stdout",
     "output_type": "stream",
     "text": [
      "Scaling training data...\n",
      "Scaling test data...\n",
      "Completed!\n"
     ]
    }
   ],
   "source": [
    "### scaling datasets using standardscaler\n",
    "from sklearn.preprocessing import StandardScaler\n",
    "scaler = StandardScaler()\n",
    "print(f\"Scaling training data...\")\n",
    "train_scaled = scaler.fit_transform(X_tr)\n",
    "print(f\"Scaling test data...\")\n",
    "test_scaled = scaler.transform(X_te)\n",
    "print(f\"Completed!\")"
   ]
  },
  {
   "cell_type": "code",
   "execution_count": 14,
   "id": "2093c774",
   "metadata": {},
   "outputs": [],
   "source": [
    "### stacking data for train and set which will be input to the models\n",
    "from scipy import sparse\n",
    "\n",
    "X_train = sparse.csr_matrix(np.array(np.hstack((np.array(train[['proto', 'state', 'service']]), train_scaled)), dtype=np.float32))\n",
    "X_test = sparse.csr_matrix(np.array(np.hstack((np.array(test[['proto', 'state', 'service']]), test_scaled)), dtype=np.float32))"
   ]
  },
  {
   "cell_type": "code",
   "execution_count": 15,
   "id": "37980c32",
   "metadata": {},
   "outputs": [
    {
     "name": "stdout",
     "output_type": "stream",
     "text": [
      "Shape of train dataset after stacking: (1441592, 43) and y_train: (1441592,)\n",
      "Shape of test dataset after stacking: (617826, 43) and y_test: (617826,)\n"
     ]
    }
   ],
   "source": [
    "print(f\"Shape of train dataset after stacking: {X_train.shape} and y_train: {y_train.shape}\")\n",
    "print(f\"Shape of test dataset after stacking: {X_test.shape} and y_test: {y_test.shape}\")"
   ]
  },
  {
   "cell_type": "code",
   "execution_count": 16,
   "id": "e4099d1a",
   "metadata": {},
   "outputs": [
    {
     "data": {
      "text/plain": [
       "30"
      ]
     },
     "execution_count": 16,
     "metadata": {},
     "output_type": "execute_result"
    }
   ],
   "source": [
    "### Releasing memory by deleting variable and dataframes\n",
    "### that will be no longer in use\n",
    "del df\n",
    "del train\n",
    "del test\n",
    "del train_scaled\n",
    "del test_scaled\n",
    "gc.collect()"
   ]
  },
  {
   "cell_type": "markdown",
   "id": "f471aa7c",
   "metadata": {},
   "source": [
    "<p style='font-size:25px; font-style:italic; font-weight: bold;'>9.&emsp;Model training and hyperparameter tuning</p>"
   ]
  },
  {
   "cell_type": "markdown",
   "id": "79b1ed58",
   "metadata": {},
   "source": [
    "* <p style=\"color:green; font-style:italic;\">Hyperparameter tuning on Naive_bayes as Base model and training with best hyperparameters</p>\n",
    "* <p style=\"color:green; font-style:italic;\">Hyperparameter tuning on Decision tree model and training with best hyperparameters</p>\n",
    "* <p style=\"color:green; font-style:italic;\">Hyperparameter tuning on Logistic regression model and training with best hyperparameters</p>\n",
    "* <p style=\"color:green; font-style:italic;\">Hyperparameter tuning on SVM model and training with best hyperparameters</p>\n",
    "* <p style=\"color:green; font-style:italic;\">Hyperparameter tuning on XGBoost model and training with best hyperparameters</p>\n",
    "* <p style=\"color:green; font-style:italic;\">Hyperparameter tuning on Random forest model and training with best hyperparameters</p>"
   ]
  },
  {
   "cell_type": "code",
   "execution_count": 17,
   "id": "068bd03a",
   "metadata": {},
   "outputs": [],
   "source": [
    "from sklearn.metrics import roc_auc_score\n",
    "from sklearn.metrics import f1_score, precision_score,recall_score\n",
    "def calculate_metrices(y_true, y_pred):\n",
    "    '''this function will return auc and f1 score'''\n",
    "    ### calculat auc\n",
    "    auc = roc_auc_score(y_true, y_pred)\n",
    "    ### calculate f1-score\n",
    "    f1score = f1_score(y_true, y_pred)\n",
    "    gc.collect()\n",
    "    return auc, f1score"
   ]
  },
  {
   "cell_type": "code",
   "execution_count": 18,
   "id": "2948a067",
   "metadata": {},
   "outputs": [],
   "source": [
    "from sklearn.metrics import roc_curve\n",
    "\n",
    "def plot_roc_auc_curve(y_train_true, y_train_pred, y_test_true, y_test_pred):\n",
    "    '''this function will plot roc auc curve on train and test data'''\n",
    "    ### geting fpr and tpr for train data\n",
    "    fpr, tpr, _ = roc_curve(y_train_true, y_train_pred)\n",
    "    ### ploting roc curve\n",
    "    plt.plot(fpr, tpr, label='train')\n",
    "    ### getting fpr and tpr for test data\n",
    "    fpr, tpr, _ = roc_curve(y_test_true, y_test_pred)\n",
    "    ### plotting roc curve\n",
    "    plt.plot(fpr, tpr, label='test')\n",
    "    ### adding axis-labels to the plot\n",
    "    plt.xlabel(\"fpr\")\n",
    "    ### adding axis-labels to the plot\n",
    "    plt.ylabel(\"tpr\")\n",
    "    ### adding title to the plot\n",
    "    plt.title(\"ROC AUC curve\")\n",
    "    ### adding legend\n",
    "    plt.legend()\n",
    "    plt.grid()\n",
    "    plt.show()\n",
    "    gc.collect()"
   ]
  },
  {
   "cell_type": "code",
   "execution_count": 19,
   "id": "231a6f95",
   "metadata": {},
   "outputs": [],
   "source": [
    "from sklearn.metrics import confusion_matrix\n",
    "\n",
    "def plot_confusion_matrix(y_true, y_pred, title=''):\n",
    "    '''this function will plot confusion matrix'''\n",
    "    ### getting confusion matrix\n",
    "    conf_mat = confusion_matrix(y_true, y_pred)\n",
    "    ### ploting conf matrix using seaborn heatmap plot\n",
    "    sns.heatmap(conf_mat, annot=True, fmt='d')\n",
    "    ### adding title\n",
    "    plt.title(f'Confusion matrix on {title}')\n",
    "    ### adding axis-labels to the plot\n",
    "    plt.xlabel(\"prdicted\")\n",
    "    ### adding axis-labels to the plot\n",
    "    plt.ylabel(\"actual\")\n",
    "    plt.show()\n",
    "    gc.collect()"
   ]
  },
  {
   "cell_type": "code",
   "execution_count": 20,
   "id": "9c93a3b3",
   "metadata": {},
   "outputs": [],
   "source": [
    "def random_search_cv(estimator, param_distributions, algo_name='', X_train=X_train, y_train=y_train):\n",
    "    \"\"\"this function will return best score and best params after applying randomized search cv on train dataset\"\"\"\n",
    "    st = dt.now()\n",
    "    ### initializing randomized search cv with arguments\n",
    "    clf = RandomizedSearchCV(estimator, param_distributions=param_distributions, scoring='f1', cv=5, n_jobs=-1)\n",
    "    print(f\"tunning hyperparameter on {algo_name} model...\")\n",
    "    ### fitting data to the randomizedsearchcv estimator\n",
    "    clf.fit(X_train, y_train)\n",
    "    print(f\"tunning completed!\")\n",
    "    print(f\"\\ntime taken in hyperparameter tuning: {dt.now()-st}\")\n",
    "    gc.collect()\n",
    "    ### returns best score and best params\n",
    "    return clf.best_score_, clf.best_params_"
   ]
  },
  {
   "cell_type": "code",
   "execution_count": 21,
   "id": "2d0824c4",
   "metadata": {},
   "outputs": [],
   "source": [
    "def train_and_evaluate(estimator, X_train=X_train, y_train=y_train, X_test=X_test, y_test=y_test):\n",
    "    '''this function will train and evaluate dataset'''\n",
    "    st = dt.now()\n",
    "    ### fitting data to the estimator\n",
    "    estimator.fit(X_train, y_train)\n",
    "    print(f\"training completed! and time taken: {dt.now()-st}\")\n",
    "    ### finding predictions on train data set\n",
    "    y_tr_preds = estimator.predict(X_train )\n",
    "    ### finding auc and f1score for train dataset\n",
    "    tr_auc, tr_f1score = calculate_metrices(y_train, y_tr_preds)\n",
    "    print(f\"\\nOn train data, AUC: {tr_auc}, f1-score: {tr_f1score}\")\n",
    "    ### finding predictions on test dataset\n",
    "    y_te_preds = estimator.predict(X_test )\n",
    "    ### finding auc and f1score on test dataset\n",
    "    te_auc, te_f1score = calculate_metrices(y_test, y_te_preds)\n",
    "    print(f\"On test data, AUC: {te_auc}, f1-score: {te_f1score}\")\n",
    "    ### plotting confusion matrix on train and test dataset\n",
    "    plot_confusion_matrix(y_train, y_tr_preds, title='train data')\n",
    "    plot_confusion_matrix(y_test, y_te_preds, title='test data')\n",
    "    ### plotting roc auc curve on train and test dataset\n",
    "    plot_roc_auc_curve(y_train, y_tr_preds, y_test, y_te_preds)\n",
    "    gc.collect()\n",
    "    ### returns estimator, auc and f1score for train and test dataset\n",
    "    return estimator, tr_auc, tr_f1score, te_auc, te_f1score"
   ]
  },
  {
   "cell_type": "markdown",
   "id": "54cf9f5d",
   "metadata": {},
   "source": [
    "* <p style=\"font-size:20px; font-style:italic; font-weight:bold;\">Hyperparameter tuning on Naive_bayes as Base model</p>"
   ]
  },
  {
   "cell_type": "code",
   "execution_count": 22,
   "id": "ebcef601",
   "metadata": {},
   "outputs": [
    {
     "name": "stdout",
     "output_type": "stream",
     "text": [
      "tunning hyperparameter on Naive bayes as base model...\n",
      "tunning completed!\n",
      "\n",
      "time taken in hyperparameter tuning: 0:00:30.816331\n"
     ]
    }
   ],
   "source": [
    "from sklearn.model_selection import RandomizedSearchCV\n",
    "from sklearn.naive_bayes import GaussianNB\n",
    "### initialising parameters\n",
    "param_distributions = {'var_smoothing':[1e-06, 1e-05, 1e-04, 1e-03, 1e-02, 1e-01,1, 1e2]}\n",
    "### hyperparameter tunning on naive bayes model\n",
    "best_score, best_params = random_search_cv(GaussianNB(), X_train=X_train.toarray(),\n",
    "                                           param_distributions=param_distributions, \n",
    "                                           algo_name='Naive bayes as base')"
   ]
  },
  {
   "cell_type": "code",
   "execution_count": 23,
   "id": "e06d9bd0",
   "metadata": {},
   "outputs": [
    {
     "name": "stdout",
     "output_type": "stream",
     "text": [
      "Best f1-score achieved by RandomizedSearchCV model: 0.7328908543994821\n",
      "Best params are: 1e-06\n"
     ]
    }
   ],
   "source": [
    "print(f\"Best f1-score achieved by RandomizedSearchCV model: {best_score}\")\n",
    "var_smoothing = best_params['var_smoothing']\n",
    "print(f\"Best params are: {var_smoothing}\")"
   ]
  },
  {
   "cell_type": "code",
   "execution_count": 24,
   "id": "04040598",
   "metadata": {
    "scrolled": false
   },
   "outputs": [
    {
     "name": "stdout",
     "output_type": "stream",
     "text": [
      "training completed! and time taken: 0:00:00.602158\n",
      "\n",
      "On train data, AUC: 0.9792594985299837, f1-score: 0.732547157367102\n",
      "On test data, AUC: 0.9792991297958374, f1-score: 0.7315634218289085\n"
     ]
    },
    {
     "data": {
      "image/png": "[encoded data removed]",
      "text/plain": [
       "<Figure size 432x288 with 2 Axes>"
      ]
     },
     "metadata": {
      "needs_background": "light"
     },
     "output_type": "display_data"
    },
    {
     "data": {
      "image/png": "[encoded data removed]",
      "text/plain": [
       "<Figure size 432x288 with 2 Axes>"
      ]
     },
     "metadata": {
      "needs_background": "light"
     },
     "output_type": "display_data"
    },
    {
     "data": {
      "image/png": "[encoded data removed]",
      "text/plain": [
       "<Figure size 432x288 with 1 Axes>"
      ]
     },
     "metadata": {
      "needs_background": "light"
     },
     "output_type": "display_data"
    }
   ],
   "source": [
    "\n",
    "### training and evaluating naive bayes model on train and test dataset\n",
    "base_model, nb_tr_auc, nb_tr_f1score, nb_te_auc, nb_te_f1score = train_and_evaluate(\n",
    "                                                                 GaussianNB(var_smoothing=var_smoothing),\n",
    "                                                                 X_train=X_train.toarray(),\n",
    "                                                                 X_test=X_test.toarray())\n"
   ]
  },
  {
   "cell_type": "markdown",
   "id": "6df54939",
   "metadata": {},
   "source": [
    "<p style=\"font-size:22px; font-style:italic; font-weight:bold\">Observation</p>\n",
    "<p style=\"color:green; font-style:italic;\">From the above scores and plots I found that our base model is giving very good auc, but but the f1 score is at 73% for both train and test dataset, it also a generalised model because there is very small difference in the scores</p>"
   ]
  },
  {
   "cell_type": "markdown",
   "id": "b952b508",
   "metadata": {},
   "source": [
    "* <p style=\"font-size:20px; font-style:italic; font-weight:bold;\">Hyperparameter tuning on Decision tree model</p>"
   ]
  },
  {
   "cell_type": "code",
   "execution_count": 30,
   "id": "c51f85c8",
   "metadata": {},
   "outputs": [
    {
     "name": "stdout",
     "output_type": "stream",
     "text": [
      "tunning hyperparameter on Decision tree model...\n",
      "tunning completed!\n",
      "\n",
      "time taken in hyperparameter tuning: 0:04:10.001083\n"
     ]
    }
   ],
   "source": [
    "from sklearn.tree import DecisionTreeClassifier\n",
    "### initialising parameters\n",
    "param_distributions = {\n",
    "                        'max_depth':[3,5,7,9],\n",
    "                        'criterion':['gini', 'entropy'],\n",
    "                        'min_samples_split':[2,3,4,5,6],\n",
    "                        'class_weight':['uniform', 'balanced']\n",
    "                        }\n",
    "\n",
    "\n",
    "### hyperparameter tunning on decision tree classifier model\n",
    "best_score, best_params = random_search_cv(DecisionTreeClassifier(), \n",
    "                                           param_distributions=param_distributions, \n",
    "                                           algo_name='Decision tree')"
   ]
  },
  {
   "cell_type": "code",
   "execution_count": 31,
   "id": "38365c4e",
   "metadata": {},
   "outputs": [
    {
     "name": "stdout",
     "output_type": "stream",
     "text": [
      "Best f1-score achieved by RandomizedSearchCV model: 0.8728672561267435\n",
      "Best params are: {'min_samples_split': 5, 'max_depth': 9, 'criterion': 'entropy', 'class_weight': 'balanced'}\n"
     ]
    }
   ],
   "source": [
    "print(f\"Best f1-score achieved by RandomizedSearchCV model: {best_score}\")\n",
    "print(f\"Best params are: {best_params}\")"
   ]
  },
  {
   "cell_type": "code",
   "execution_count": 32,
   "id": "ab7d5639",
   "metadata": {},
   "outputs": [],
   "source": [
    "### initialising best params\n",
    "max_depth = best_params['max_depth']\n",
    "criterion = best_params['criterion']\n",
    "min_samples_split = best_params['min_samples_split']\n",
    "class_weight = best_params['class_weight']"
   ]
  },
  {
   "cell_type": "code",
   "execution_count": 33,
   "id": "c109db10",
   "metadata": {},
   "outputs": [
    {
     "name": "stdout",
     "output_type": "stream",
     "text": [
      "training completed! and time taken: 0:00:26.648015\n",
      "\n",
      "On train data, AUC: 0.9926064071239479, f1-score: 0.8731465196191954\n",
      "On test data, AUC: 0.9922473942263232, f1-score: 0.8718846670168681\n"
     ]
    },
    {
     "data": {
      "image/png": "[encoded data removed]",
      "text/plain": [
       "<Figure size 432x288 with 2 Axes>"
      ]
     },
     "metadata": {
      "needs_background": "light"
     },
     "output_type": "display_data"
    },
    {
     "data": {
      "image/png": "[encoded data removed]",
      "text/plain": [
       "<Figure size 432x288 with 2 Axes>"
      ]
     },
     "metadata": {
      "needs_background": "light"
     },
     "output_type": "display_data"
    },
    {
     "data": {
      "image/png": "[encoded data removed]",
      "text/plain": [
       "<Figure size 432x288 with 1 Axes>"
      ]
     },
     "metadata": {
      "needs_background": "light"
     },
     "output_type": "display_data"
    }
   ],
   "source": [
    "### initializing estimator on best params\n",
    "dec_tree_model = DecisionTreeClassifier(\n",
    "                                max_depth=max_depth,\n",
    "                                criterion=criterion,\n",
    "                                min_samples_split=min_samples_split,\n",
    "                                class_weight=class_weight,\n",
    "                                )\n",
    "### training and evaluating decision tree classifier model on train and test dataset\n",
    "dec_tree_model, dec_tree_tr_auc, dec_tree_tr_f1score, dec_tree_te_auc, dec_tree_te_f1score = train_and_evaluate(dec_tree_model)"
   ]
  },
  {
   "cell_type": "code",
   "execution_count": 34,
   "id": "4c0d803e",
   "metadata": {},
   "outputs": [
    {
     "data": {
      "text/plain": [
       "15"
      ]
     },
     "execution_count": 34,
     "metadata": {},
     "output_type": "execute_result"
    }
   ],
   "source": [
    "gc.collect()"
   ]
  },
  {
   "cell_type": "markdown",
   "id": "aefc4c1d",
   "metadata": {},
   "source": [
    "<p style=\"font-size:22px; font-style:italic; font-weight:bold\">Observation</p>\n",
    "<p style=\"color:green; font-style:italic;\">From the above scores and plots we I found that this model is performing good compared to base model and it generalised model because the difference in the train and test f1-scores is nearly 0.5%.</p>\n",
    "\n",
    "<p style=\"color:green; font-style:italic;\">It is quite good in predicting abnormal class but there is a large number of normal class predicted as abnormal/malicious</p>"
   ]
  },
  {
   "cell_type": "markdown",
   "id": "1e3d7ac3",
   "metadata": {},
   "source": [
    "* <p style=\"font-size:20px; font-style:italic; font-weight:bold;\">Hyperparameter tuning on Logistic regression model</p>"
   ]
  },
  {
   "cell_type": "code",
   "execution_count": 35,
   "id": "c9718f7d",
   "metadata": {},
   "outputs": [
    {
     "name": "stdout",
     "output_type": "stream",
     "text": [
      "tunning hyperparameter on logistic regression model...\n",
      "tunning completed!\n",
      "\n",
      "time taken in hyperparameter tuning: 0:02:36.200115\n"
     ]
    }
   ],
   "source": [
    "from sklearn.linear_model import SGDClassifier\n",
    "### initialising parameters\n",
    "param_distributions = {\n",
    "                        'penalty':['l1', 'l2', 'elasticnet'],\n",
    "                        'alpha':[0.0001, 0.001, 0.01, 0.1, 1, 10],\n",
    "                        'max_iter':[500, 1000, 2000, 3000],\n",
    "                        'epsilon':[0.1],\n",
    "                        'learning_rate':['optimal', 'constant', 'invscaling', 'adaptive'],\n",
    "                        'eta0':[0.001, 0.01, 1],\n",
    "                        'class_weight':[None, 'balanced']\n",
    "                        }\n",
    "### hyperparameter tunning on logistic regression model\n",
    "best_score, best_params = random_search_cv(SGDClassifier(loss='log'), \n",
    "                                           param_distributions=param_distributions, \n",
    "                                           algo_name='logistic regression')"
   ]
  },
  {
   "cell_type": "code",
   "execution_count": 36,
   "id": "4b299c49",
   "metadata": {},
   "outputs": [
    {
     "name": "stdout",
     "output_type": "stream",
     "text": [
      "Best f1-score achieved by RandomizedSearchCV model: 0.8475722265108994\n",
      "Best params are: {'penalty': 'l2', 'max_iter': 500, 'learning_rate': 'adaptive', 'eta0': 0.01, 'epsilon': 0.1, 'class_weight': 'balanced', 'alpha': 0.0001}\n"
     ]
    }
   ],
   "source": [
    "print(f\"Best f1-score achieved by RandomizedSearchCV model: {best_score}\")\n",
    "print(f\"Best params are: {best_params}\")"
   ]
  },
  {
   "cell_type": "code",
   "execution_count": 37,
   "id": "65737118",
   "metadata": {},
   "outputs": [],
   "source": [
    "### initialising best params\n",
    "penalty = best_params['penalty']\n",
    "max_iter = best_params['max_iter']\n",
    "learning_rate = best_params['learning_rate']\n",
    "eta0 = best_params['eta0']\n",
    "epsilon = best_params['epsilon']\n",
    "class_weight = best_params['class_weight']\n",
    "alpha = best_params['alpha']"
   ]
  },
  {
   "cell_type": "code",
   "execution_count": 38,
   "id": "c506f71b",
   "metadata": {
    "scrolled": false
   },
   "outputs": [
    {
     "name": "stdout",
     "output_type": "stream",
     "text": [
      "training completed! and time taken: 0:00:30.413081\n",
      "\n",
      "On train data, AUC: 0.9898958834714043, f1-score: 0.8477714104758018\n",
      "On test data, AUC: 0.9900297180133149, f1-score: 0.8473387566193904\n"
     ]
    },
    {
     "data": {
      "image/png": "[encoded data removed]",
      "text/plain": [
       "<Figure size 432x288 with 2 Axes>"
      ]
     },
     "metadata": {
      "needs_background": "light"
     },
     "output_type": "display_data"
    },
    {
     "data": {
      "image/png": "[encoded data removed]",
      "text/plain": [
       "<Figure size 432x288 with 2 Axes>"
      ]
     },
     "metadata": {
      "needs_background": "light"
     },
     "output_type": "display_data"
    },
    {
     "data": {
      "image/png": "[encoded data removed]",
      "text/plain": [
       "<Figure size 432x288 with 1 Axes>"
      ]
     },
     "metadata": {
      "needs_background": "light"
     },
     "output_type": "display_data"
    }
   ],
   "source": [
    "### initialising estimators on best params\n",
    "lr_model = SGDClassifier(loss='log',\n",
    "                    penalty=penalty,\n",
    "                    max_iter=max_iter,\n",
    "                    learning_rate=learning_rate,\n",
    "                    eta0=eta0,\n",
    "                    epsilon=epsilon,\n",
    "                    class_weight=class_weight,\n",
    "                    alpha=alpha)\n",
    "### training and evaluating logistic regression model on train and test dataset\n",
    "lr_model, lr_tr_auc, lr_tr_f1score, lr_te_auc, lr_te_f1score = train_and_evaluate(lr_model)"
   ]
  },
  {
   "cell_type": "code",
   "execution_count": 39,
   "id": "19cf3724",
   "metadata": {},
   "outputs": [
    {
     "data": {
      "text/plain": [
       "15"
      ]
     },
     "execution_count": 39,
     "metadata": {},
     "output_type": "execute_result"
    }
   ],
   "source": [
    "gc.collect()"
   ]
  },
  {
   "cell_type": "markdown",
   "id": "cd3f5cbf",
   "metadata": {},
   "source": [
    "<p style=\"font-size:22px; font-style:italic; font-weight:bold\">Observation</p>\n",
    "<p style=\"color:green; font-style:italic;\">From the above scores and plots we I found that this model is performing good compared to base model and it generalised model because the difference in the train and test f1-scores is nearly 0.5%.</p>\n",
    "\n",
    "<p style=\"color:green; font-style:italic;\">it doesn't perform vell compared to Decision tree, but yes it is quite good in predicting abnormal class but there is a large number of normal class predicted as abnormal/malicious</p>"
   ]
  },
  {
   "cell_type": "markdown",
   "id": "33a1355b",
   "metadata": {},
   "source": [
    "* <p style=\"font-size:20px; font-style:italic; font-weight:bold;\">Hyperparameter tuning on SVM model</p>"
   ]
  },
  {
   "cell_type": "code",
   "execution_count": 40,
   "id": "a94a8b00",
   "metadata": {},
   "outputs": [
    {
     "name": "stdout",
     "output_type": "stream",
     "text": [
      "tunning hyperparameter on SVM model...\n",
      "tunning completed!\n",
      "\n",
      "time taken in hyperparameter tuning: 0:02:13.112533\n"
     ]
    }
   ],
   "source": [
    "### initialising parameters\n",
    "param_distributions = {\n",
    "                        'penalty':['l1', 'l2', 'elasticnet'],\n",
    "                        'alpha':[0.0001, 0.001, 0.01, 0.1, 1, 10],\n",
    "                        'max_iter':[500, 1000, 2000, 3000],\n",
    "                        'epsilon':[0.1],\n",
    "                        'learning_rate':['optimal', 'constant', 'invscaling', 'adaptive'],\n",
    "                        'eta0':[0.001, 0.01, 1],\n",
    "                        'class_weight':[None, 'balanced']\n",
    "                        }\n",
    "### hyperparameter tunning on svm model\n",
    "best_score, best_params = random_search_cv(SGDClassifier(loss='hinge'), \n",
    "                                           param_distributions=param_distributions,\n",
    "                                           algo_name='SVM')"
   ]
  },
  {
   "cell_type": "code",
   "execution_count": 41,
   "id": "18decc1e",
   "metadata": {},
   "outputs": [
    {
     "name": "stdout",
     "output_type": "stream",
     "text": [
      "Best f1-score achieved by RandomizedSearchCV for SVM model: 0.8376444411567329\n",
      "Best params are: {'penalty': 'l2', 'max_iter': 3000, 'learning_rate': 'invscaling', 'eta0': 1, 'epsilon': 0.1, 'class_weight': None, 'alpha': 0.01}\n"
     ]
    }
   ],
   "source": [
    "print(f\"Best f1-score achieved by RandomizedSearchCV for SVM model: {best_score}\")\n",
    "print(f\"Best params are: {best_params}\")"
   ]
  },
  {
   "cell_type": "code",
   "execution_count": 42,
   "id": "f532d29c",
   "metadata": {},
   "outputs": [],
   "source": [
    "### initialising best params\n",
    "penalty = best_params['penalty']\n",
    "max_iter = best_params['max_iter']\n",
    "learning_rate = best_params['learning_rate']\n",
    "eta0 = best_params['eta0']\n",
    "epsilon = best_params['epsilon']\n",
    "class_weight = best_params['class_weight']\n",
    "alpha = best_params['alpha']"
   ]
  },
  {
   "cell_type": "code",
   "execution_count": 43,
   "id": "7f6b0026",
   "metadata": {},
   "outputs": [
    {
     "name": "stdout",
     "output_type": "stream",
     "text": [
      "training completed! and time taken: 0:00:04.913125\n",
      "\n",
      "On train data, AUC: 0.9774266807972193, f1-score: 0.8429836342834404\n",
      "On test data, AUC: 0.9777379664335677, f1-score: 0.8425048538062534\n"
     ]
    },
    {
     "data": {
      "image/png": "[encoded data removed]",
      "text/plain": [
       "<Figure size 432x288 with 2 Axes>"
      ]
     },
     "metadata": {
      "needs_background": "light"
     },
     "output_type": "display_data"
    },
    {
     "data": {
      "image/png": "[encoded data removed]",
      "text/plain": [
       "<Figure size 432x288 with 2 Axes>"
      ]
     },
     "metadata": {
      "needs_background": "light"
     },
     "output_type": "display_data"
    },
    {
     "data": {
      "image/png": "[encoded data removed]",
      "text/plain": [
       "<Figure size 432x288 with 1 Axes>"
      ]
     },
     "metadata": {
      "needs_background": "light"
     },
     "output_type": "display_data"
    }
   ],
   "source": [
    "### initialising estimators on best params\n",
    "svm_model = SGDClassifier(loss='hinge',\n",
    "                    penalty=penalty,\n",
    "                    max_iter=max_iter,\n",
    "                    learning_rate=learning_rate,\n",
    "                    eta0=eta0,\n",
    "                    epsilon=epsilon,\n",
    "                    class_weight=class_weight,\n",
    "                    alpha=alpha)\n",
    "### training and evaluating svm model on train and test dataset\n",
    "svm_model, svm_tr_auc, svm_tr_f1score, svm_te_auc, svm_te_f1score = train_and_evaluate(svm_model)"
   ]
  },
  {
   "cell_type": "code",
   "execution_count": 44,
   "id": "845957c4",
   "metadata": {},
   "outputs": [
    {
     "data": {
      "text/plain": [
       "15"
      ]
     },
     "execution_count": 44,
     "metadata": {},
     "output_type": "execute_result"
    }
   ],
   "source": [
    "gc.collect()"
   ]
  },
  {
   "cell_type": "markdown",
   "id": "4d4e20b7",
   "metadata": {},
   "source": [
    "<p style=\"font-size:22px; font-style:italic; font-weight:bold\">Observation</p>\n",
    "<p style=\"color:green; font-style:italic;\">From the above scores and plots we I found that this model is performing good compared to base model and it generalised model because the difference in the train and test f1-scores is nearly 0.5%.</p>\n",
    "\n",
    "<p style=\"color:green; font-style:italic;\">it doesn't perform well and it is not as good as in prediction compared to logistic regression because the misclassified datapoints are higher compared to logisitic regression.</p>"
   ]
  },
  {
   "cell_type": "markdown",
   "id": "7b488e49",
   "metadata": {},
   "source": [
    "* <p style=\"font-size:20px; font-style:italic; font-weight:bold;\">Hyperparameter tuning on XGBoost model</p>"
   ]
  },
  {
   "cell_type": "code",
   "execution_count": 45,
   "id": "b0b640d6",
   "metadata": {},
   "outputs": [
    {
     "name": "stdout",
     "output_type": "stream",
     "text": [
      "tunning hyperparameter on XGBoost model...\n",
      "tunning completed!\n",
      "\n",
      "time taken in hyperparameter tuning: 4:26:11.475976\n"
     ]
    }
   ],
   "source": [
    "from xgboost import XGBClassifier\n",
    "### initialising parameters\n",
    "param_distributions = {\n",
    "                        'n_estimators':[50, 100, 150, 200, 250, 300],\n",
    "                        'max_depth':[3,5,7,9,11],\n",
    "                        'learning_rate':[1e-03, 1e-02, 1e-01, 1, 1e01, 1e02],\n",
    "                        'booster':['gbtree', 'gblinear', 'dart'],\n",
    "                        'tree_method':['exact', 'approx', 'hist', 'gpu_hist'],\n",
    "                        'sampling_method':['uniform', 'gradient_based'],                   \n",
    "                        }\n",
    "### hyperparameter tunning on xgboost classifier model\n",
    "best_score, best_params = random_search_cv(XGBClassifier(), \n",
    "                                           param_distributions=param_distributions,\n",
    "                                           algo_name='XGBoost')"
   ]
  },
  {
   "cell_type": "code",
   "execution_count": 46,
   "id": "d9181a54",
   "metadata": {},
   "outputs": [
    {
     "name": "stdout",
     "output_type": "stream",
     "text": [
      "Best f1-score achieved by RandomizedSearchCV for xgboost model: 0.9451469962996683\n",
      "Best params are: {'tree_method': 'approx', 'sampling_method': 'uniform', 'n_estimators': 300, 'max_depth': 9, 'learning_rate': 1, 'booster': 'dart'}\n"
     ]
    }
   ],
   "source": [
    "print(f\"Best f1-score achieved by RandomizedSearchCV for xgboost model: {best_score}\")\n",
    "print(f\"Best params are: {best_params}\")"
   ]
  },
  {
   "cell_type": "code",
   "execution_count": 47,
   "id": "be3a4d61",
   "metadata": {},
   "outputs": [],
   "source": [
    "### initialising best params\n",
    "tree_method = best_params['tree_method']\n",
    "sampling_method = best_params['sampling_method']\n",
    "n_estimators = best_params['n_estimators']\n",
    "learning_rate = best_params['learning_rate']\n",
    "max_depth = best_params['max_depth']\n",
    "booster = best_params['booster']"
   ]
  },
  {
   "cell_type": "code",
   "execution_count": 48,
   "id": "cee36551",
   "metadata": {},
   "outputs": [
    {
     "name": "stdout",
     "output_type": "stream",
     "text": [
      "training completed! and time taken: 0:33:48.633681\n",
      "\n",
      "On train data, AUC: 0.9996489939107732, f1-score: 0.9995196202849297\n",
      "On test data, AUC: 0.9704059208974176, f1-score: 0.9472747123540775\n"
     ]
    },
    {
     "data": {
      "image/png": "[encoded data removed]",
      "text/plain": [
       "<Figure size 432x288 with 2 Axes>"
      ]
     },
     "metadata": {
      "needs_background": "light"
     },
     "output_type": "display_data"
    },
    {
     "data": {
      "image/png": "[encoded data removed]",
      "text/plain": [
       "<Figure size 432x288 with 2 Axes>"
      ]
     },
     "metadata": {
      "needs_background": "light"
     },
     "output_type": "display_data"
    },
    {
     "data": {
      "image/png": "[encoded data removed]",
      "text/plain": [
       "<Figure size 432x288 with 1 Axes>"
      ]
     },
     "metadata": {
      "needs_background": "light"
     },
     "output_type": "display_data"
    }
   ],
   "source": [
    "### initialising estimators on best params\n",
    "xgb_model = XGBClassifier(n_estimators = n_estimators, \n",
    "                    max_depth = max_depth,\n",
    "                    learning_rate = learning_rate, \n",
    "                    booster = booster, \n",
    "                    tree_method = tree_method,\n",
    "                    sampling_method = sampling_method,\n",
    "                    n_jobs = -1\n",
    "                    )\n",
    "### training and evaluating xgboost classifier model on train and test dataset\n",
    "xgb_model, xgb_tr_auc, xgb_tr_f1score, xgb_te_auc, xgb_te_f1score = train_and_evaluate(xgb_model)"
   ]
  },
  {
   "cell_type": "markdown",
   "id": "5e4b264d",
   "metadata": {},
   "source": [
    "<p style=\"font-size:22px; font-style:italic; font-weight:bold\">Observation</p>\n",
    "<p style=\"color:green; font-style:italic;\">From the above scores and plots we I found that this model is performing very good compared to base, decision tree, logistic regression and svm model, and it not as generalised compared to the previous ones</p>\n",
    "<p style=\"color:green; font-style:italic;\">because the difference in the train and test f1-scores is nearly 5%. And we can see that the misclassified points in test data is greater than train dataset</p>"
   ]
  },
  {
   "cell_type": "markdown",
   "id": "886a9f15",
   "metadata": {},
   "source": [
    "* <p style=\"font-size:20px; font-style:italic; color:green; font-weight:bold\">XGBoost classifier with default parameters</p>"
   ]
  },
  {
   "cell_type": "code",
   "execution_count": 49,
   "id": "9e87adb5",
   "metadata": {},
   "outputs": [
    {
     "name": "stdout",
     "output_type": "stream",
     "text": [
      "training completed! and time taken: 0:03:51.762440\n",
      "\n",
      "On train data, AUC: 0.9726257966163565, f1-score: 0.9552793504117771\n",
      "On test data, AUC: 0.966276356553211, f1-score: 0.9438065649061191\n"
     ]
    },
    {
     "data": {
      "image/png": "[encoded data removed]",
      "text/plain": [
       "<Figure size 432x288 with 2 Axes>"
      ]
     },
     "metadata": {
      "needs_background": "light"
     },
     "output_type": "display_data"
    },
    {
     "data": {
      "image/png": "[encoded data removed]",
      "text/plain": [
       "<Figure size 432x288 with 2 Axes>"
      ]
     },
     "metadata": {
      "needs_background": "light"
     },
     "output_type": "display_data"
    },
    {
     "data": {
      "image/png": "[encoded data removed]",
      "text/plain": [
       "<Figure size 432x288 with 1 Axes>"
      ]
     },
     "metadata": {
      "needs_background": "light"
     },
     "output_type": "display_data"
    }
   ],
   "source": [
    "### training and evaluating xgboost classifier model with default parameters on train and test dataset\n",
    "def_xgb_model = XGBClassifier(n_jobs=-1)\n",
    "def_xgb_model, def_xgb_tr_auc, def_xgb_tr_f1score, def_xgb_te_auc, def_xgb_te_f1score = train_and_evaluate(def_xgb_model)"
   ]
  },
  {
   "cell_type": "code",
   "execution_count": 50,
   "id": "3b187a71",
   "metadata": {},
   "outputs": [
    {
     "data": {
      "text/plain": [
       "15"
      ]
     },
     "execution_count": 50,
     "metadata": {},
     "output_type": "execute_result"
    }
   ],
   "source": [
    "gc.collect()"
   ]
  },
  {
   "cell_type": "markdown",
   "id": "7ddef80f",
   "metadata": {},
   "source": [
    "<p style=\"font-size:22px; font-style:italic; font-weight:bold\">Observation</p>\n",
    "<p style=\"color:green; font-style:italic;\">From the above scores and plots we I found that this model with default parameters is performing very good, and it generalised because the difference in the train and test f1-scores is nearly 1% which is quite low. And having auc and f1-score better than previous algorithms.</p>"
   ]
  },
  {
   "cell_type": "markdown",
   "id": "56883c32",
   "metadata": {},
   "source": [
    "* <p style=\"font-size:20px; font-style:italic; font-weight:bold;\">Hyperparameter tuning on Random Forest model</p>"
   ]
  },
  {
   "cell_type": "code",
   "execution_count": 51,
   "id": "3b700e56",
   "metadata": {},
   "outputs": [
    {
     "name": "stdout",
     "output_type": "stream",
     "text": [
      "tunning hyperparameter on Random forest classifier model...\n",
      "tunning completed!\n",
      "\n",
      "time taken in hyperparameter tuning: 0:43:36.822935\n"
     ]
    }
   ],
   "source": [
    "from sklearn.ensemble import RandomForestClassifier\n",
    "### initialising parameters\n",
    "param_distributions = {\n",
    "                        'n_estimators': [70, 85, 100, 130, 150, 200],\n",
    "                        'criterion': ['gini', 'entropy'],\n",
    "                        'max_depth':[2,4,6,8,10],\n",
    "                        'min_samples_split': [1,2,3,4,5,6],\n",
    "                        'min_samples_leaf':[1,2,3,4,5],\n",
    "                        'max_features': ['auto', 'sqrt', 'log2'],\n",
    "                        'class_weight': [None, 'balanced', 'balanced_subsample'],\n",
    "                        'bootstrap':[True, False],\n",
    "                        'ccp_alpha': [0.005, 0.01, 0.2, 0.3,0.5],\n",
    "                        'max_samples': [0.1, 0.2, 0.3, 0.4, 0.5, 0.6, 0.7, 0.8, 0.9, 1.0]\n",
    "                        }\n",
    "### hyperparameter tunning on random forest classifier model\n",
    "best_score, best_params = random_search_cv(RandomForestClassifier(), \n",
    "                                           param_distributions=param_distributions,\n",
    "                                           algo_name='Random forest classifier')"
   ]
  },
  {
   "cell_type": "code",
   "execution_count": 52,
   "id": "bae9c510",
   "metadata": {},
   "outputs": [
    {
     "name": "stdout",
     "output_type": "stream",
     "text": [
      "Best f1-score achieved by RandomizedSearchCV random forest model: 0.8322643125623266\n",
      "Best params are: {'n_estimators': 70, 'min_samples_split': 3, 'min_samples_leaf': 4, 'max_samples': 0.5, 'max_features': 'auto', 'max_depth': 10, 'criterion': 'gini', 'class_weight': 'balanced', 'ccp_alpha': 0.01, 'bootstrap': False}\n"
     ]
    }
   ],
   "source": [
    "print(f\"Best f1-score achieved by RandomizedSearchCV random forest model: {best_score}\")\n",
    "print(f\"Best params are: {best_params}\")"
   ]
  },
  {
   "cell_type": "code",
   "execution_count": 53,
   "id": "87fdef3a",
   "metadata": {},
   "outputs": [],
   "source": [
    "### initialising best params\n",
    "n_estimators = best_params['n_estimators']\n",
    "criterion = best_params['criterion']\n",
    "max_depth = best_params['max_depth']\n",
    "min_samples_split = best_params['min_samples_split']\n",
    "min_samples_leaf = best_params['min_samples_leaf']\n",
    "max_features = best_params['max_features']\n",
    "class_weight = best_params['class_weight']\n",
    "bootstrap = best_params['bootstrap']\n",
    "ccp_alpha = best_params['ccp_alpha']\n",
    "max_samples = best_params['max_samples']"
   ]
  },
  {
   "cell_type": "code",
   "execution_count": 54,
   "id": "139626f0",
   "metadata": {},
   "outputs": [
    {
     "name": "stdout",
     "output_type": "stream",
     "text": [
      "training completed! and time taken: 0:02:28.770943\n",
      "\n",
      "On train data, AUC: 0.9892975935257804, f1-score: 0.8261106439425343\n",
      "On test data, AUC: 0.9892751202520019, f1-score: 0.8258125112225306\n"
     ]
    },
    {
     "data": {
      "image/png": "[encoded data removed]",
      "text/plain": [
       "<Figure size 432x288 with 2 Axes>"
      ]
     },
     "metadata": {
      "needs_background": "light"
     },
     "output_type": "display_data"
    },
    {
     "data": {
      "image/png": "[encoded data removed]",
      "text/plain": [
       "<Figure size 432x288 with 2 Axes>"
      ]
     },
     "metadata": {
      "needs_background": "light"
     },
     "output_type": "display_data"
    },
    {
     "data": {
      "image/png": "[encoded data removed]",
      "text/plain": [
       "<Figure size 432x288 with 1 Axes>"
      ]
     },
     "metadata": {
      "needs_background": "light"
     },
     "output_type": "display_data"
    }
   ],
   "source": [
    "### initialising estimators on best params\n",
    "rf_model = RandomForestClassifier(\n",
    "                    n_estimators = n_estimators,\n",
    "                    criterion = criterion,\n",
    "                    max_depth = max_depth,\n",
    "                    min_samples_split = min_samples_split,\n",
    "                    min_samples_leaf = min_samples_leaf,\n",
    "                    max_features = max_features,\n",
    "                    class_weight = class_weight,\n",
    "                    bootstrap = bootstrap,\n",
    "                    ccp_alpha = ccp_alpha,\n",
    "                    max_samples = max_samples,\n",
    "                    n_jobs = -1\n",
    "                    )\n",
    "\n",
    "### training and evaluating random forest classifier model on train and test dataset\n",
    "rf_model, rf_tr_auc, rf_tr_f1score, rf_te_auc, rf_te_f1score = train_and_evaluate(rf_model)"
   ]
  },
  {
   "cell_type": "markdown",
   "id": "24e7ba4a",
   "metadata": {},
   "source": [
    "<p style=\"font-size:22px; font-style:italic; font-weight:bold\">Observation</p>\n",
    "<p style=\"color:green; font-style:italic;\">From the above scores and plots we I found that this model is performing good compared to base model but not others, and it is generalized model because the difference in the train and test f1-scores is less than 0.1%, but compared to other models the f1-score is quite low.</p>\n",
    "\n",
    "<p style=\"color:green; font-style:italic;\">the False negatives is 0 but the false positives is very large, which classifies normal traffics as abnorm/malicious</p>\n",
    "<p style=\"color:green; font-style:italic;\">Hence, we can conclude that the it works very well on one class but not on the other class</p>"
   ]
  },
  {
   "cell_type": "markdown",
   "id": "be45d1c2",
   "metadata": {},
   "source": [
    "* <p style=\"font-size:20px; font-style:italic; color:green; font-weight:bold\">Random Forest Classifier with default parameters</p>"
   ]
  },
  {
   "cell_type": "code",
   "execution_count": 55,
   "id": "e07608aa",
   "metadata": {},
   "outputs": [
    {
     "name": "stdout",
     "output_type": "stream",
     "text": [
      "training completed! and time taken: 0:07:02.002404\n",
      "\n",
      "On train data, AUC: 0.9996508162794004, f1-score: 0.9995554535807496\n",
      "On test data, AUC: 0.9641105186824225, f1-score: 0.9372327171094723\n"
     ]
    },
    {
     "data": {
      "image/png": "[encoded data removed]",
      "text/plain": [
       "<Figure size 432x288 with 2 Axes>"
      ]
     },
     "metadata": {
      "needs_background": "light"
     },
     "output_type": "display_data"
    },
    {
     "data": {
      "image/png": "[encoded data removed]",
      "text/plain": [
       "<Figure size 432x288 with 2 Axes>"
      ]
     },
     "metadata": {
      "needs_background": "light"
     },
     "output_type": "display_data"
    },
    {
     "data": {
      "image/png": "[encoded data removed]",
      "text/plain": [
       "<Figure size 432x288 with 1 Axes>"
      ]
     },
     "metadata": {
      "needs_background": "light"
     },
     "output_type": "display_data"
    }
   ],
   "source": [
    "### training and evaluating random forest classifier model with default parameters on train and test dataset\n",
    "def_rf_model = RandomForestClassifier(n_jobs=-1)\n",
    "def_rf_model, def_rf_tr_auc, def_rf_tr_f1score, def_rf_te_auc, def_rf_te_f1score = train_and_evaluate(def_rf_model)"
   ]
  },
  {
   "cell_type": "markdown",
   "id": "a18f8d48",
   "metadata": {},
   "source": [
    "<p style=\"font-size:22px; font-style:italic; font-weight:bold\">Observation</p>\n",
    "<p style=\"color:green; font-style:italic;\">From the above scores and plots we I found that this model is performing very good compared to tunned random forest but it is overfitted because the difference in the train and test f1-scores is nearly 6%. It works well on train data but not on the test data, we see the confusion matrix.</p>"
   ]
  },
  {
   "cell_type": "markdown",
   "id": "68d3971f",
   "metadata": {},
   "source": [
    "<p style=\"font-size:22px; font-style:italic; color:black; font-weight:bold\">10.&emsp;Summary of all the estimators with their respective scores and auc</p>"
   ]
  },
  {
   "cell_type": "code",
   "execution_count": 57,
   "id": "b0b28e6a",
   "metadata": {},
   "outputs": [
    {
     "data": {
      "text/html": [
       "<div>\n",
       "<style scoped>\n",
       "    .dataframe tbody tr th:only-of-type {\n",
       "        vertical-align: middle;\n",
       "    }\n",
       "\n",
       "    .dataframe tbody tr th {\n",
       "        vertical-align: top;\n",
       "    }\n",
       "\n",
       "    .dataframe thead th {\n",
       "        text-align: right;\n",
       "    }\n",
       "</style>\n",
       "<table border=\"1\" class=\"dataframe\">\n",
       "  <thead>\n",
       "    <tr style=\"text-align: right;\">\n",
       "      <th></th>\n",
       "      <th>train auc</th>\n",
       "      <th>test auc</th>\n",
       "      <th>train f1-score</th>\n",
       "      <th>test f1-score</th>\n",
       "    </tr>\n",
       "  </thead>\n",
       "  <tbody>\n",
       "    <tr>\n",
       "      <th>Naive Bayes Classifier (Base model)</th>\n",
       "      <td>0.979259498530</td>\n",
       "      <td>0.979299129796</td>\n",
       "      <td>0.732547157367</td>\n",
       "      <td>0.731563421829</td>\n",
       "    </tr>\n",
       "    <tr>\n",
       "      <th>Decision Tree Classifier</th>\n",
       "      <td>0.992606407124</td>\n",
       "      <td>0.873146519619</td>\n",
       "      <td>0.992247394226</td>\n",
       "      <td>0.871884667017</td>\n",
       "    </tr>\n",
       "    <tr>\n",
       "      <th>Logistic Regression</th>\n",
       "      <td>0.989895883471</td>\n",
       "      <td>0.990029718013</td>\n",
       "      <td>0.847771410476</td>\n",
       "      <td>0.847338756619</td>\n",
       "    </tr>\n",
       "    <tr>\n",
       "      <th>Support Vector Machine (SVM)</th>\n",
       "      <td>0.977426680797</td>\n",
       "      <td>0.977737966434</td>\n",
       "      <td>0.842983634283</td>\n",
       "      <td>0.842504853806</td>\n",
       "    </tr>\n",
       "    <tr>\n",
       "      <th>XGBoost Classifier</th>\n",
       "      <td>0.999648993911</td>\n",
       "      <td>0.970405920897</td>\n",
       "      <td>0.999519620285</td>\n",
       "      <td>0.947274712354</td>\n",
       "    </tr>\n",
       "    <tr>\n",
       "      <th>XGBoost with default parameters</th>\n",
       "      <td>0.972625796616</td>\n",
       "      <td>0.966276356553</td>\n",
       "      <td>0.955279350412</td>\n",
       "      <td>0.943806564906</td>\n",
       "    </tr>\n",
       "    <tr>\n",
       "      <th>Random Forest Classifier</th>\n",
       "      <td>0.989297593526</td>\n",
       "      <td>0.989275120252</td>\n",
       "      <td>0.826110643943</td>\n",
       "      <td>0.825812511223</td>\n",
       "    </tr>\n",
       "    <tr>\n",
       "      <th>Random Forest Classifier with default parameters</th>\n",
       "      <td>0.999650816279</td>\n",
       "      <td>0.964110518682</td>\n",
       "      <td>0.999555453581</td>\n",
       "      <td>0.937232717109</td>\n",
       "    </tr>\n",
       "  </tbody>\n",
       "</table>\n",
       "</div>"
      ],
      "text/plain": [
       "                                                       train auc  \\\n",
       "Naive Bayes Classifier (Base model)               0.979259498530   \n",
       "Decision Tree Classifier                          0.992606407124   \n",
       "Logistic Regression                               0.989895883471   \n",
       "Support Vector Machine (SVM)                      0.977426680797   \n",
       "XGBoost Classifier                                0.999648993911   \n",
       "XGBoost with default parameters                   0.972625796616   \n",
       "Random Forest Classifier                          0.989297593526   \n",
       "Random Forest Classifier with default parameters  0.999650816279   \n",
       "\n",
       "                                                        test auc  \\\n",
       "Naive Bayes Classifier (Base model)               0.979299129796   \n",
       "Decision Tree Classifier                          0.873146519619   \n",
       "Logistic Regression                               0.990029718013   \n",
       "Support Vector Machine (SVM)                      0.977737966434   \n",
       "XGBoost Classifier                                0.970405920897   \n",
       "XGBoost with default parameters                   0.966276356553   \n",
       "Random Forest Classifier                          0.989275120252   \n",
       "Random Forest Classifier with default parameters  0.964110518682   \n",
       "\n",
       "                                                  train f1-score  \\\n",
       "Naive Bayes Classifier (Base model)               0.732547157367   \n",
       "Decision Tree Classifier                          0.992247394226   \n",
       "Logistic Regression                               0.847771410476   \n",
       "Support Vector Machine (SVM)                      0.842983634283   \n",
       "XGBoost Classifier                                0.999519620285   \n",
       "XGBoost with default parameters                   0.955279350412   \n",
       "Random Forest Classifier                          0.826110643943   \n",
       "Random Forest Classifier with default parameters  0.999555453581   \n",
       "\n",
       "                                                   test f1-score  \n",
       "Naive Bayes Classifier (Base model)               0.731563421829  \n",
       "Decision Tree Classifier                          0.871884667017  \n",
       "Logistic Regression                               0.847338756619  \n",
       "Support Vector Machine (SVM)                      0.842504853806  \n",
       "XGBoost Classifier                                0.947274712354  \n",
       "XGBoost with default parameters                   0.943806564906  \n",
       "Random Forest Classifier                          0.825812511223  \n",
       "Random Forest Classifier with default parameters  0.937232717109  "
      ]
     },
     "execution_count": 57,
     "metadata": {},
     "output_type": "execute_result"
    }
   ],
   "source": [
    "columns = ['train auc', 'test auc', 'train f1-score', 'test f1-score']\n",
    "scores = [\n",
    "          [nb_tr_auc, nb_te_auc, nb_tr_f1score, nb_te_f1score],\n",
    "          [dec_tree_tr_auc, dec_tree_tr_f1score, dec_tree_te_auc, dec_tree_te_f1score],\n",
    "          [lr_tr_auc, lr_te_auc, lr_tr_f1score, lr_te_f1score],\n",
    "          [svm_tr_auc, svm_te_auc, svm_tr_f1score, svm_te_f1score],\n",
    "          [xgb_tr_auc, xgb_te_auc, xgb_tr_f1score, xgb_te_f1score],\n",
    "          [def_xgb_tr_auc, def_xgb_te_auc, def_xgb_tr_f1score, def_xgb_te_f1score],\n",
    "          [rf_tr_auc, rf_te_auc, rf_tr_f1score, rf_te_f1score],\n",
    "          [def_rf_tr_auc, def_rf_te_auc, def_rf_tr_f1score, def_rf_te_f1score],\n",
    "         ]\n",
    "\n",
    "index = ['Naive Bayes Classifier (Base model)',\n",
    "         'Decision Tree Classifier',\n",
    "         'Logistic Regression',\n",
    "         'Support Vector Machine (SVM)',\n",
    "         'XGBoost Classifier',\n",
    "         'XGBoost with default parameters',\n",
    "         'Random Forest Classifier',\n",
    "         'Random Forest Classifier with default parameters',\n",
    "]\n",
    "\n",
    "score_df = pd.DataFrame(data=scores, columns=columns, index=index)\n",
    "score_df"
   ]
  },
  {
   "cell_type": "code",
   "execution_count": 58,
   "id": "1d44730c",
   "metadata": {
    "scrolled": true
   },
   "outputs": [
    {
     "data": {
      "image/png": "[encoded data removed]",
      "text/plain": [
       "<Figure size 720x360 with 2 Axes>"
      ]
     },
     "metadata": {
      "needs_background": "light"
     },
     "output_type": "display_data"
    }
   ],
   "source": [
    "plt.figure(figsize=(10,5))\n",
    "sns.heatmap(score_df, fmt='.12f', annot=True, linecolor='black', linewidths='2', )\n",
    "plt.title('Heatmap on the train and test scores of all the estimators')\n",
    "plt.show()\n"
   ]
  },
  {
   "cell_type": "markdown",
   "id": "82ad8d6c",
   "metadata": {},
   "source": [
    "<p style='font-size:18px; color:red; font-style:italic; font-weight:bold'>comparison between baseline model and selected model scores</p>"
   ]
  },
  {
   "cell_type": "code",
   "execution_count": 79,
   "id": "82c602af",
   "metadata": {},
   "outputs": [
    {
     "data": {
      "text/html": [
       "<div>\n",
       "<style scoped>\n",
       "    .dataframe tbody tr th:only-of-type {\n",
       "        vertical-align: middle;\n",
       "    }\n",
       "\n",
       "    .dataframe tbody tr th {\n",
       "        vertical-align: top;\n",
       "    }\n",
       "\n",
       "    .dataframe thead th {\n",
       "        text-align: right;\n",
       "    }\n",
       "</style>\n",
       "<table border=\"1\" class=\"dataframe\">\n",
       "  <thead>\n",
       "    <tr style=\"text-align: right;\">\n",
       "      <th></th>\n",
       "      <th>train auc</th>\n",
       "      <th>test auc</th>\n",
       "      <th>train f1-score</th>\n",
       "      <th>test f1-score</th>\n",
       "    </tr>\n",
       "  </thead>\n",
       "  <tbody>\n",
       "    <tr>\n",
       "      <th>Naive Bayes Classifier (Base model)</th>\n",
       "      <td>0.979259498530</td>\n",
       "      <td>0.979299129796</td>\n",
       "      <td>0.732547157367</td>\n",
       "      <td>0.731563421829</td>\n",
       "    </tr>\n",
       "    <tr>\n",
       "      <th>XGBoost with default parameters</th>\n",
       "      <td>0.972625796616</td>\n",
       "      <td>0.966276356553</td>\n",
       "      <td>0.955279350412</td>\n",
       "      <td>0.943806564906</td>\n",
       "    </tr>\n",
       "  </tbody>\n",
       "</table>\n",
       "</div>"
      ],
      "text/plain": [
       "                                          train auc        test auc  \\\n",
       "Naive Bayes Classifier (Base model)  0.979259498530  0.979299129796   \n",
       "XGBoost with default parameters      0.972625796616  0.966276356553   \n",
       "\n",
       "                                     train f1-score   test f1-score  \n",
       "Naive Bayes Classifier (Base model)  0.732547157367  0.731563421829  \n",
       "XGBoost with default parameters      0.955279350412  0.943806564906  "
      ]
     },
     "execution_count": 79,
     "metadata": {},
     "output_type": "execute_result"
    }
   ],
   "source": [
    "score_df.loc[['Naive Bayes Classifier (Base model)', 'XGBoost with default parameters'],]"
   ]
  },
  {
   "cell_type": "markdown",
   "id": "42c2210f",
   "metadata": {},
   "source": [
    "<p style=\"font-size:22px; font-style:italic; font-weight:bold\">Observation</p>\n",
    "<p style=\"color:green; font-style:italic;\">from the above heatmap we found that XGBoost and Random Forest had perfromed well from our base model Naive bayes</p>\n",
    "<p style=\"color:green; font-style:italic;\">but the xgboost with default parameters have very similar auc and f1-score for both train and test data.</p>\n",
    "<p style=\"font-style:italic; color:red; font-weight:bold\">Hence, I can conclude that our XGBoost model with default parameters is like generalized model from all the models with best auc and f1-score.</p>"
   ]
  },
  {
   "cell_type": "markdown",
   "id": "c2bfa64b",
   "metadata": {},
   "source": [
    "<p style=\"font-size:22px; color:black; font-style:italic; font-weight:bold;\">11.&emsp;Saving models, scaling vectors and the unique categories in proto, service, state feature, engineered features name in pickle file</p>"
   ]
  },
  {
   "cell_type": "code",
   "execution_count": 63,
   "id": "978f5668",
   "metadata": {},
   "outputs": [],
   "source": [
    "### saving uniques categorical value in respective feature list to disk\n",
    "with open('unique_categories.pkl', 'wb') as f:\n",
    "    pickle.dump([unique_proto,unique_service,unique_state], f)"
   ]
  },
  {
   "cell_type": "code",
   "execution_count": 68,
   "id": "579bb092",
   "metadata": {},
   "outputs": [],
   "source": [
    "### saving scaler vector to disk\n",
    "with open('scaler.pkl', 'wb') as f:\n",
    "    pickle.dump(scaler, f)"
   ]
  },
  {
   "cell_type": "code",
   "execution_count": 71,
   "id": "0b4800eb",
   "metadata": {},
   "outputs": [],
   "source": [
    "### storing models in the form of key, value pair in dictionary\n",
    "estimators_dict = {\n",
    "                    'base_model':base_model, \n",
    "                   'def_xgb_model':def_xgb_model, \n",
    "                   'def_rf_model':def_rf_model, \n",
    "                   'dec_tree_model':dec_tree_model, \n",
    "                   'lr_model': lr_model, \n",
    "                   'svm_model':svm_model, \n",
    "                   'xgb_model':xgb_model, \n",
    "                   'rf_model':rf_model\n",
    "                  }\n",
    "### for each key and its model in dictionary\n",
    "for name, model_name in estimators_dict.items():\n",
    "    ### saving key and its model in the disk\n",
    "    with open(name+'.pkl', 'wb') as f:\n",
    "        pickle.dump(model_name, f)"
   ]
  },
  {
   "cell_type": "code",
   "execution_count": 73,
   "id": "86271b3f",
   "metadata": {},
   "outputs": [],
   "source": [
    "c### features name on that feature engineering to be perform\n",
    "feature_eng =  [[\"sttl\", \"dttl\"],\n",
    "                [\"sbytes\", \"dbytes\"],\n",
    "                [\"Sload\", \"Dload\"],\n",
    "                [\"stcpb\", \"dtcpb\"],\n",
    "                [\"smeansz\", \"dmeansz\"],\n",
    "                [\"Sjit\", \"Djit\"],\n",
    "                [\"Sintpkt\", \"Dintpkt\"],\n",
    "                [\"trans_depth\", \"res_bdy_len\"],\n",
    "                [\"ct_state_ttl\", \"ct_flw_http_mthd\"],\n",
    "                [\"ct_srv_dst\", \"ct_dst_ltm\"],\n",
    "                [\"ct_src_\", \"ct_src_dport_ltm\"]]\n",
    "### saving in the disk\n",
    "with open('feature_eng.pkl', 'wb') as f:\n",
    "    pickle.dump(feature_eng, f)"
   ]
  },
  {
   "cell_type": "markdown",
   "id": "134642c6",
   "metadata": {},
   "source": [
    "<p style='font-style:italic; font-weight:bold; font-size:15px;'>******************************************************************************END************************************************************************************</p>"
   ]
  }
 ],
 "metadata": {
  "kernelspec": {
   "display_name": "Python 3",
   "language": "python",
   "name": "python3"
  },
  "language_info": {
   "codemirror_mode": {
    "name": "ipython",
    "version": 3
   },
   "file_extension": ".py",
   "mimetype": "text/x-python",
   "name": "python",
   "nbconvert_exporter": "python",
   "pygments_lexer": "ipython3",
   "version": "3.8.8"
  }
 },
 "nbformat": 4,
 "nbformat_minor": 5
}
